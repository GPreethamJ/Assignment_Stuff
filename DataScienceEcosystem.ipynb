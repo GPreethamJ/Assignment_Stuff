{
 "cells": [
  {
   "cell_type": "markdown",
   "id": "213d9bf7-f0b4-4b74-b77e-d56d67fc597a",
   "metadata": {},
   "source": [
    "Data Science Tools and Ecosystem"
   ]
  },
  {
   "cell_type": "markdown",
   "id": "76723264-70ab-4ea2-8ebf-96df2c996ca9",
   "metadata": {},
   "source": [
    "In this notebook, Data Science Tools and Ecosystem are summarized."
   ]
  },
  {
   "cell_type": "markdown",
   "id": "23ac2f54-cd2a-413e-b3c2-50200aa026bf",
   "metadata": {},
   "source": [
    "**Objectives:**\n",
    "- List some popular languages used in Data Science.\n",
    "- List some common libraries used by Data Scientists.\n",
    "- List some common tools used for Data Science.\n",
    "- Explain basic arithmetic operations in Python through examples."
   ]
  },
  {
   "cell_type": "markdown",
   "id": "d202429c-d458-49d2-bc95-9258d7b9d752",
   "metadata": {},
   "source": [
    "Some of the popular languages that Data Scientists use are:\n",
    "1. Python\n",
    "2. R\n",
    "3. SQL"
   ]
  },
  {
   "cell_type": "markdown",
   "id": "93516b10-8fe3-46cf-b585-784d9c715ec6",
   "metadata": {},
   "source": [
    "Some of the commonly used libraries used by Data Scientists include:\n",
    "1. Pandas\n",
    "2. Numpy\n",
    "3. Scikit-learn"
   ]
  },
  {
   "cell_type": "markdown",
   "id": "728619b9-ea57-4b45-97c7-5b094c116e93",
   "metadata": {},
   "source": [
    "| Data Science Tools |\n",
    "|--------------------|\n",
    "| Visual Studio Code |\n",
    "| R Studio           |\n",
    "| Jupyter Notebook   |"
   ]
  },
  {
   "cell_type": "markdown",
   "id": "3e8a535a-24c7-41eb-8960-18d7d554b4bf",
   "metadata": {},
   "source": [
    "### Below are a few examples of evaluating arithmetic expression in Python:"
   ]
  },
  {
   "cell_type": "code",
   "execution_count": 1,
   "id": "9e3d9fa6-be55-42c6-b26f-6f84628cc2b2",
   "metadata": {
    "tags": []
   },
   "outputs": [
    {
     "data": {
      "text/plain": [
       "17"
      ]
     },
     "execution_count": 1,
     "metadata": {},
     "output_type": "execute_result"
    }
   ],
   "source": [
    "# This is a simple arithmetic expression to multiply then add integers.\n",
    "(3 * 4) + 5"
   ]
  },
  {
   "cell_type": "code",
   "execution_count": 2,
   "id": "550f5be3-1c9c-4975-adf2-03d85420054a",
   "metadata": {
    "tags": []
   },
   "outputs": [
    {
     "name": "stdout",
     "output_type": "stream",
     "text": [
      "3.3333333333333335\n"
     ]
    }
   ],
   "source": [
    "# This will convert 200 minutes to hours by dividing by 60.\n",
    "mins = 200\n",
    "hours = mins/60\n",
    "print(hours)"
   ]
  },
  {
   "cell_type": "markdown",
   "id": "d8df7862-5cea-4f7f-8e38-44621283fb16",
   "metadata": {
    "tags": []
   },
   "source": [
    "## Author\n",
    "\n",
    "Gagan Preetham Jonnalagadda"
   ]
  }
 ],
 "metadata": {
  "kernelspec": {
   "display_name": "Python",
   "language": "python",
   "name": "conda-env-python-py"
  },
  "language_info": {
   "codemirror_mode": {
    "name": "ipython",
    "version": 3
   },
   "file_extension": ".py",
   "mimetype": "text/x-python",
   "name": "python",
   "nbconvert_exporter": "python",
   "pygments_lexer": "ipython3",
   "version": "3.7.12"
  }
 },
 "nbformat": 4,
 "nbformat_minor": 5
}
